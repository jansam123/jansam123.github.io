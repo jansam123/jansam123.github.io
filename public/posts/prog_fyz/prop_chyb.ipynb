{
 "cells": [
  {
   "cell_type": "markdown",
   "metadata": {},
   "source": [
    "## Príklad z minula\n",
    "\n",
    "- Kapacita kondenzátora ako funkcia vzdialenosti:\n",
    "\n",
    "## $C = \\frac{\\epsilon A}{d}$\n",
    "\n",
    "- Zmerané hodnoty:\n",
    "\n",
    "|   d [cm]   |    C [$\\mu$F]    |\n",
    "|-------|---------|\n",
    "|  2.00 |  275.4 $\\pm$ 10 |\n",
    "|  3.00 |  182.1 $\\pm$ 10  |\n",
    "|  5.00 |  111.0 $\\pm$ 10  |\n",
    "|  7.00 |   83.2 $\\pm$ 10  |\n",
    "|  9.00 |   68.0 $\\pm$ 10  |\n",
    "| 11.00 |   57.9 $\\pm$ 10  |\n",
    "| 13.00 |   51.2 $\\pm$ 10  |\n",
    "| 15.00 |   45.9 $\\pm$ 10  |\n",
    "| 17.00 |   41.9 $\\pm$ 10  |\n",
    "| 19.00 |   39.0 $\\pm$ 10  |\n",
    "| 20.00 |   37.9 $\\pm$ 10  |\n",
    "\n",
    "\n",
    "- Chceme zistiť konštantu úmery $\\epsilon A$ \n",
    "- Treba nafitovať $C(\\frac{1}{d})$"
   ]
  },
  {
   "cell_type": "code",
   "execution_count": 6,
   "metadata": {},
   "outputs": [],
   "source": [
    "import numpy as np\n",
    "import matplotlib.pyplot as plt\n",
    "import matplotlib as mpl\n",
    "import scipy\n",
    "plt.style.use(\"default\")"
   ]
  },
  {
   "cell_type": "code",
   "execution_count": 7,
   "metadata": {},
   "outputs": [],
   "source": [
    "C = np.array([275.4, 182.1, 111.0, 83.2, 68.0, 57.9, 51.2, 45.9, 41.9, 39.0, 37.9])\n",
    "d = np.array([2.00, 3.00, 5.00, 7.00, 9.00, 11.0, 13.0, 15.0, 17.0, 19.0, 20.0])\n",
    "d_inv = 1 / d\n",
    "C_err = np.array([10]*len(C))"
   ]
  },
  {
   "cell_type": "code",
   "execution_count": 8,
   "metadata": {},
   "outputs": [],
   "source": [
    "def lin_func(x, m, c):\n",
    "   return m * x + c"
   ]
  },
  {
   "cell_type": "code",
   "execution_count": 14,
   "metadata": {},
   "outputs": [],
   "source": [
    "def plot(x_graph, y_graph, y_err, x_fit, y_fit, y_fit_lower, y_fit_upper, xlabel, filename, ylabel=r\"C [$\\mu$F]\"):\n",
    "\n",
    "    # draw x_graph, y_graph with error bars\n",
    "    plt.errorbar(x_graph, y_graph, y_err, fmt='o', label='Data', color='black')\n",
    "\n",
    "    # draw the fit function and its uncertainty band\n",
    "    plt.fill_between(x_fit, y_fit_lower, y_fit_upper, color='red', alpha=0.3)\n",
    "\n",
    "    # create a legend entry for the fit function and its uncertainty band\n",
    "    line_with_band = mpl.lines.Line2D([], [], color='red', label='Fit', linestyle='-', linewidth=2)\n",
    "    band = mpl.patches.Patch(color='red', alpha=0.3, label='Fit uncertainty')\n",
    "\n",
    "    # get the current legend handles and labels\n",
    "    handles, labels = plt.gca().get_legend_handles_labels()\n",
    "    plt.legend(handles=handles + [(line_with_band, band)], labels=labels + ['Fit'])\n",
    "\n",
    "    # finally, plot\n",
    "    plt.plot(x_fit, y_fit, 'r-')\n",
    "    plt.xlabel(xlabel)\n",
    "    plt.ylabel(ylabel)\n",
    "    plt.savefig(filename, dpi=300)\n",
    "    plt.show() # display the plot in jupyter notebook\n",
    "    plt.close()\n",
    "\n",
    "    return"
   ]
  },
  {
   "cell_type": "code",
   "execution_count": null,
   "metadata": {},
   "outputs": [],
   "source": [
    "popt, pcov = scipy.optimize.curve_fit(lin_func, d_inv, C, sigma=C_err, absolute_sigma=True)\n",
    "x_fit = np.linspace(min(d_inv), max(d_inv), 100)\n",
    "y_fit = lin_func(x_fit, popt[0], popt[1])\n",
    "# error propagation; take into account the uncertainty of the two fit parameters and their correlation\n",
    "dyda = x_fit\n",
    "dydb = 1\n",
    "y_unc = np.sqrt(dyda**2 * pcov[0,0] + dydb**2 * pcov[1,1] + 2*dyda*dydb*pcov[0,1])\n",
    "y_fit_upper = y_fit + y_unc\n",
    "y_fit_lower = y_fit - y_unc\n",
    "plot(d_inv, C, C_err, x_fit, y_fit, y_fit_lower, y_fit_upper, \"1/d [1/cm]\", \"linear.png\")"
   ]
  },
  {
   "cell_type": "markdown",
   "metadata": {},
   "source": [
    "## Propagácia chýb\n",
    "- použijeme magický vzorec na propagáciu chýb\n",
    "- závislosť $y = y(x_1, x_2, x_3,...)$\n",
    "- $\\vec{\\mu} = (\\mu_1, \\mu_2, ...)$ sú namerané hodnoty veličiny $\\vec{x} = (x_1, x_2,...)$\n",
    "- $\\vec{\\sigma} = (\\sigma_{x_1}, \\sigma_{x_2}, ...)$ sú chyby merania veličiny $\\vec{x}$\n",
    "### $\\sigma_y = \\sqrt{\\left(\\frac{\\partial y}{\\partial x_1}\\Big|_{\\vec x=\\vec\\mu}\\right)^2\\sigma_{x_1}^2 + \\left(\\frac{\\partial y}{\\partial x_2}\\Big|_{\\vec x=\\vec\\mu}\\right)^2\\sigma_{x_2}^2 + \\left(\\frac{\\partial y}{\\partial x_3}\\Big|_{\\vec x=\\vec\\mu}\\right)^2\\sigma_{x_3}^2 + \\cdots}$\n",
    "\n",
    "### Príklad\n",
    "- $s(a, t) = \\frac{1}{2} a t^2$\n",
    "- $ a = g = 10 \\pm 2\\ \\mathrm{m/s^2}$\n",
    "- $t = 3 \\pm 0.05\\ \\mathrm{s}$\n",
    "- $\\vec{x} = (a, t)$, $\\vec{\\mu} = (10\\ \\mathrm{m/s^2},\\ 3\\ \\mathrm{s})$, $\\vec{\\sigma} = (2\\ \\mathrm{m/s^2},\\ 0.05\\ \\mathrm{s})$\n",
    "- $s = \\frac{1}{2} a t^2 = 45\\ \\mathrm{m} \\pm \\sigma_s$\n",
    "\n",
    "$\\sigma_s = \\sqrt{\\left(\\frac{\\partial s}{\\partial a}\\Big|_{a=10\\ \\mathrm{m/s^2}, t=3\\ \\mathrm{s}}\\right)^2\\cdot \\sigma_a^2 + \\left(\\frac{\\partial s}{\\partial t}\\Big|_{a=10\\ \\mathrm{m/s^2}, t=3\\ \\mathrm{s}}\\right)^2\\cdot \\sigma_t^2} = \\sqrt{(\\frac{1}{2} t^2\\cdot \\sigma_a)^2 + (at\\cdot \\sigma_t)^2} = \\sqrt{(\\frac{1}{2}3^2\\cdot 2)^2 + (10\\cdot 3\\cdot 0.05)^2} = 9\\ \\mathrm{m}$\n",
    "\n",
    "### Všeobecný vzorec s koleráciami\n",
    "- v prípade, že $x_1, x_2, x_3,...$ nie sú nezávislé, ale sú korelované\n",
    "### $\\sigma_y = \\sqrt{\\sum\\limits_{i,j=1}^n \\frac{\\partial y}{\\partial x_i} \\frac{\\partial y}{\\partial x_j} \\Big|_{\\vec x=\\vec\\mu} V_{ij}}$\n",
    "- $V_{ij}$ je kovariančná matica\n",
    "- $V_{ij}$ je výstupom z fitu:\n",
    "  ```python\n",
    "    popt, pcov = scipy.optimize.curve_fit(f, x, y, sigma=sigma)\n",
    "    V = pcov\n",
    "```\n"
   ]
  },
  {
   "cell_type": "markdown",
   "metadata": {},
   "source": [
    "# Automatizácia počítania chýb\n",
    "\n",
    "- základom je knižnica `uncertainties` (alebo `qexpy`)\n",
    "- dokumentácia: knižnice `uncertainties`: [https://uncertainties.readthedocs.io/en/latest/](https://uncertainties.readthedocs.io/en/latest/)\n",
    "- treba nainštalovať: \n",
    "```bash\n",
    "    pip install uncertainties\n",
    "```\n",
    "- každá premenná (float) je definovaná spoločne s chybou --> nový typ premennej `ufloat`\n",
    "- výpočty s premennými sú automaticky s chybami"
   ]
  },
  {
   "cell_type": "code",
   "execution_count": 24,
   "metadata": {},
   "outputs": [
    {
     "name": "stdout",
     "output_type": "stream",
     "text": [
      "g = 10.0+/-2.0 m/s^2\n",
      "Nominal Value: 10.0\n",
      "Standard Deviation: 2.0\n",
      "s = 45+/-9 m\n",
      "s = 45.0+/-9.1 m\n"
     ]
    }
   ],
   "source": [
    "from uncertainties import ufloat\n",
    "\n",
    "g = ufloat(10, 2)\n",
    "\n",
    "print(f'g = {g} m/s^2')\n",
    "print(f'Nominal Value: {g.nominal_value}')\n",
    "print(f'Standard Deviation: {g.std_dev}')\n",
    "\n",
    "t = ufloat(3., 0.05)\n",
    "s = 0.5 * g * t**2\n",
    "print(f's = {s} m')\n",
    "print(f's = {s:.3g} m')"
   ]
  },
  {
   "cell_type": "markdown",
   "metadata": {},
   "source": [
    "## Príklad 1 \n",
    "Spočítaje hĺbku studne $h$, ak kameň počujete čľupnúť do vody po čase $t = 2 \\pm 0.5\\ \\mathrm{s}$ od vypustenia."
   ]
  },
  {
   "cell_type": "code",
   "execution_count": null,
   "metadata": {},
   "outputs": [],
   "source": [
    "# Riešenie píkladu 1"
   ]
  },
  {
   "cell_type": "markdown",
   "metadata": {},
   "source": [
    "## Pole čisel s chybami\n",
    "- vytváranie poľa čísel ako `numpy.array` s chybami\n",
    "- treba použiť `uncertainties.unumpy.uarray`: \n",
    "- operácie sú tak ako s `numpy.array`, ale súčsasne sa propagujú chyby\n",
    "- do `uarray` sa dáva zoznam hodnôt a spoločná chyba všetkých hodnôt, alebo zoznam hodnôt a zoznam chýb"
   ]
  },
  {
   "cell_type": "code",
   "execution_count": 29,
   "metadata": {},
   "outputs": [
    {
     "name": "stdout",
     "output_type": "stream",
     "text": [
      "[41.2+/-0.1 39.6+/-0.1 36.3+/-0.1 33.0+/-0.1 26.3+/-0.1 16.6+/-0.1]\n",
      "[41.2+/-0.5 39.6+/-1.0 36.3+/-1.1 33.0+/-1.5 26.3+/-2.0 16.6+/-2.5]\n",
      "[0.41200000000000003+/-0.005 0.396+/-0.01 0.363+/-0.011000000000000001\n",
      " 0.33+/-0.015 0.263+/-0.02 0.166+/-0.025]\n",
      "Nominal Values: [0.412 0.396 0.363 0.33  0.263 0.166]\n",
      "Standard Deviations: [0.005 0.01  0.011 0.015 0.02  0.025]\n"
     ]
    }
   ],
   "source": [
    "from uncertainties import ufloat, unumpy\n",
    "\n",
    "# pole hodnôt s rovnakou chybou\n",
    "y_nominal = [41.2, 39.6, 36.3, 33, 26.3, 16.6]\n",
    "y_err = 0.1\n",
    "y = unumpy.uarray(y_nominal, y_err)\n",
    "print(y)\n",
    "\n",
    "# pole hodnôt s rôznymi chybami\n",
    "y_nominal = [41.2, 39.6, 36.3, 33, 26.3, 16.6]\n",
    "y_err = [0.5, 1.0, 1.1, 1.5, 2.0, 2.5]\n",
    "y = unumpy.uarray(y_nominal, y_err)\n",
    "print(y)\n",
    "\n",
    "# automatická propagácia chýb\n",
    "y /= 100 # y = y / 100\n",
    "print(y) \n",
    "\n",
    "# vyňatie nominálnych hodnôt a chýb\n",
    "nominal_values = unumpy.nominal_values(y)\n",
    "std_devs = unumpy.std_devs(y)\n",
    "print(f'Nominal Values: {nominal_values}')\n",
    "print(f'Standard Deviations: {std_devs}')\n"
   ]
  },
  {
   "cell_type": "markdown",
   "metadata": {},
   "source": [
    "## Špeciálne funkcie\n",
    "- na propagáciu chýb sú špeciálne funkcie v knižnici `uncertainties`\n",
    "- tieto funkcie súčasne počítajú hodnotu a chybu\n",
    "- prístup je podobný ako v `numpy` ale s chybami, dokážu pracovať s poliami"
   ]
  },
  {
   "cell_type": "code",
   "execution_count": 30,
   "metadata": {},
   "outputs": [
    {
     "data": {
      "text/plain": [
       "array([0.5403023058681398+/-0.08414709848078966,\n",
       "       -0.4161468365471424+/-0.09092974268256818,\n",
       "       -0.9899924966004454+/-0.014112000805986721,\n",
       "       -0.6536436208636119+/-0.07568024953079283,\n",
       "       0.2836621854632263+/-0.09589242746631385], dtype=object)"
      ]
     },
     "execution_count": 30,
     "metadata": {},
     "output_type": "execute_result"
    }
   ],
   "source": [
    "x = unumpy.uarray([1, 2, 3, 4, 5], 0.1)\n",
    "\n",
    "unumpy.log(x)\n",
    "unumpy.exp(x)\n",
    "unumpy.sqrt(x)\n",
    "unumpy.sin(x)\n",
    "unumpy.cos(x)\n",
    "#..."
   ]
  },
  {
   "cell_type": "markdown",
   "metadata": {},
   "source": [
    "## Príklad 2\n",
    "\n",
    "- Nafitujte tuhosť pružiny $k$ z merania závislosti závažia $m$ na predĺžení pružiny $y$.\n",
    "- Predlženie pružiny $y_0$ je dané vzťahom \n",
    "   ### $y_0 = \\frac{g}{k} \\cdot m$\n",
    "\n",
    "- Nech $y_{m0} = 46.4 \\pm 0.5\\ \\mathrm{cm}$ je dĺžka pružiny bez závažia, tj. predlženie dané len váhou pružiny.\n",
    "- Oznáčme $y(m)$, ako predlženie pružiny s návesom hmotnosti $m$.\n",
    "- Potom $y(m) = y_0 + y_{m0} = y_{m0} + \\frac{g}{k} \\cdot m$.\n",
    "- Zmerané hodnoty aj s chybami:\n",
    "\n",
    " ```python\n",
    "   y_m0 = 46.4 # cm\n",
    "   y_m0_err = 0.5\n",
    "   y = [41.2, 39.6, 36.3, 33, 26.3, 16.6] # cm\n",
    "   y_err = 0.1\n",
    "   m = [150, 200, 300, 400, 600, 900] # g\n",
    "   m_err = 0.\n",
    "```\n",
    "\n",
    "- Rady:\n",
    "  - vytvorte pole čísel s chybami\n",
    "  - skonvertujte jednotky z cm na m a g na kg \n",
    "  - nafitujte závislosť $y(m) - y_{m0}$ \n",
    "  - fit urobte pomocou `scipy.optimize.curve_fit`, ktorá neprijíma `uarray`, ale treba zvlasť dať nominálne hodnoty $x$,$y$ a chyby $y$\n",
    "  - zistite konštantu úmery $\\frac{g}{k}$\n",
    "\n",
    "- Zo vzťahu $\\omega = \\sqrt{\\frac{k}{m}}$ určite $\\omega$ a jeho chybu pre všetky hodnoty $m$. Odmocninu z čísla vypočítate pomocou `unumpy.sqrt(x)` alebo `x**0.5`\n",
    "- Za $g$ dosaďte $9.81\\ \\mathrm{m/s^2}$\n"
   ]
  },
  {
   "cell_type": "code",
   "execution_count": null,
   "metadata": {},
   "outputs": [],
   "source": [
    "# Riešenie príkladu 2"
   ]
  }
 ],
 "metadata": {
  "kernelspec": {
   "display_name": "venv",
   "language": "python",
   "name": "python3"
  },
  "language_info": {
   "codemirror_mode": {
    "name": "ipython",
    "version": 3
   },
   "file_extension": ".py",
   "mimetype": "text/x-python",
   "name": "python",
   "nbconvert_exporter": "python",
   "pygments_lexer": "ipython3",
   "version": "3.12.3"
  }
 },
 "nbformat": 4,
 "nbformat_minor": 2
}
